{
 "cells": [
  {
   "cell_type": "markdown",
   "metadata": {},
   "source": [
    "### Initialize MLflow tracking, emulating how Sientia website environment works"
   ]
  },
  {
   "cell_type": "code",
   "execution_count": 3,
   "metadata": {},
   "outputs": [
    {
     "name": "stdout",
     "output_type": "stream",
     "text": [
      "Experiment example_project already exists\n"
     ]
    }
   ],
   "source": [
    "import sientia_tracker.simple_tracker as simple_tracker\n",
    "import mlflow\n",
    "import os\n",
    "\n",
    "\n",
    "# Initialize MLflow tracking\n",
    "tracking_uri = \"file:./tmp/mlruns\"\n",
    "username = \"example_user\"\n",
    "password = \"example_password\"\n",
    "project_name = \"example_project\"\n",
    "\n",
    "tracker = simple_tracker.SimpleTracker(tracking_uri,username,password)\n",
    "tracker.set_project(project_name)\n",
    "\n"
   ]
  },
  {
   "cell_type": "markdown",
   "metadata": {},
   "source": [
    "### Load the dataset and create a model"
   ]
  },
  {
   "cell_type": "code",
   "execution_count": 4,
   "metadata": {},
   "outputs": [],
   "source": [
    "from sklearn.linear_model import LogisticRegression\n",
    "from sklearn.datasets import load_iris\n",
    "from sklearn.model_selection import train_test_split\n",
    "from sklearn.metrics import accuracy_score\n",
    "\n",
    "data = load_iris()\n",
    "X = data.data\n",
    "y = data.target\n",
    "X_train, X_test, y_train, y_test = train_test_split(X, y, test_size=0.2)\n",
    "\n",
    "# Train a model\n",
    "model = LogisticRegression(max_iter=1000)\n",
    "model.fit(X_train, y_train)\n",
    "\n",
    "# Make predictions\n",
    "y_pred = model.predict(X_test)\n",
    "accuracy = accuracy_score(y_test, y_pred)\n"
   ]
  },
  {
   "cell_type": "markdown",
   "metadata": {},
   "source": [
    "### Initialize run. The only needed parameters are the experiment name and inputs"
   ]
  },
  {
   "cell_type": "code",
   "execution_count": 5,
   "metadata": {},
   "outputs": [
    {
     "name": "stdout",
     "output_type": "stream",
     "text": [
      "Saving experiment example_project\n"
     ]
    }
   ],
   "source": [
    "# Start a run\n",
    "dataset_name= \"Iris\"\n",
    "inputs= \"sepal_length, sepal_width, petal_length, petal_width\"\n",
    "run = tracker.save_experiment(dataset_name=dataset_name, inputs=inputs)  #### TIVE QUE MUDAR AQUI ####\n",
    "run_id = run.info.run_id\n"
   ]
  },
  {
   "cell_type": "markdown",
   "metadata": {},
   "source": [
    "### Log models and metrics"
   ]
  },
  {
   "cell_type": "code",
   "execution_count": 6,
   "metadata": {},
   "outputs": [],
   "source": [
    "# Log parameters and metrics\n",
    "tracker.log_params({\"max_iter\": 1000})\n",
    "tracker.log_metrics({\"accuracy\": accuracy})\n",
    "# Log model\n",
    "artifact_path = \"LogisticRegression_for_Iris\"\n",
    "tracker.log_model(model, artifact_path)\n",
    "# End the run\n",
    "mlflow.end_run()"
   ]
  },
  {
   "cell_type": "markdown",
   "metadata": {},
   "source": [
    "### Retrieve information of run"
   ]
  },
  {
   "cell_type": "code",
   "execution_count": 7,
   "metadata": {},
   "outputs": [
    {
     "name": "stdout",
     "output_type": "stream",
     "text": [
      "Metrics: {'accuracy': 0.9666666666666667}\n",
      "Dataset : Iris\n",
      "Inputs : sepal_length, sepal_width, petal_length, petal_width\n",
      "max_iter : 1000\n"
     ]
    }
   ],
   "source": [
    "# Retrieve the run using the run ID\n",
    "retrieved_run = tracker.client.get_run(run_id)\n",
    "\n",
    "# Access and print metrics and params \n",
    "metrics = retrieved_run.data.metrics\n",
    "params = retrieved_run.data.params\n",
    "print(\"Metrics:\", metrics)\n",
    "for key, value in params.items():\n",
    "    print( key,':' ,value)\n",
    "\n",
    "\n",
    "model = tracker.client"
   ]
  },
  {
   "cell_type": "markdown",
   "metadata": {},
   "source": [
    "# Retrieve the model\n"
   ]
  },
  {
   "cell_type": "code",
   "execution_count": 8,
   "metadata": {},
   "outputs": [
    {
     "name": "stdout",
     "output_type": "stream",
     "text": [
      "[0 1 0 1 1 0 1 0 0 1 2 2 2 1 2 2 1 0 2 1 2 0 2 2 1 2 2 0 1 1]\n"
     ]
    }
   ],
   "source": [
    "# Ensure the destiny path exists\n",
    "dst_path=\"./local_model\"\n",
    "os.makedirs(dst_path, exist_ok=True)\n",
    "\n",
    "# Download the model\n",
    "local_path =  tracker.client.download_artifacts(run_id, artifact_path, dst_path=\"./local_model\")\n",
    "model = mlflow.pyfunc.load_model(local_path)\n",
    "\n",
    "# Make predictions\n",
    "print(model.predict(X_test))"
   ]
  }
 ],
 "metadata": {
  "kernelspec": {
   "display_name": "Python 3",
   "language": "python",
   "name": "python3"
  },
  "language_info": {
   "codemirror_mode": {
    "name": "ipython",
    "version": 3
   },
   "file_extension": ".py",
   "mimetype": "text/x-python",
   "name": "python",
   "nbconvert_exporter": "python",
   "pygments_lexer": "ipython3",
   "version": "3.12.4"
  }
 },
 "nbformat": 4,
 "nbformat_minor": 2
}
