{
 "cells": [
  {
   "cell_type": "markdown",
   "metadata": {},
   "source": [
    "Importa as principais Bibliotecas"
   ]
  },
  {
   "cell_type": "code",
   "execution_count": null,
   "metadata": {},
   "outputs": [],
   "source": [
    "import sientia_tracker.simple_tracker as simple_tracker\n",
    "from sklearn.base import BaseEstimator, TransformerMixin"
   ]
  },
  {
   "cell_type": "markdown",
   "metadata": {},
   "source": [
    "Configura o setup para registrar no SIENTIA"
   ]
  },
  {
   "cell_type": "code",
   "execution_count": null,
   "metadata": {},
   "outputs": [],
   "source": [
    "# Initialize tracking\n",
    "tracking_uri = \"http://localhost:51107/\"\n",
    "username = \"aignosi\"\n",
    "password = \"aignosi\"\n",
    "project_name = \"example_project_regression\"\n",
    "\n",
    "tracker = simple_tracker.SimpleTracker(tracking_uri,username,password)\n",
    "tracker.set_project(project_name)"
   ]
  },
  {
   "cell_type": "markdown",
   "metadata": {},
   "source": [
    "Setup Transformação de dados"
   ]
  },
  {
   "cell_type": "code",
   "execution_count": null,
   "metadata": {},
   "outputs": [],
   "source": [
    "params = { \"lags_features\": [\"temperature\", \"pressure\", \"humidity\"],\n",
    "            \"lags\": 3,\n",
    "            \"target\": \"temperature\",\n",
    "}\n",
    "\n",
    "\n",
    "# Load dataset\n",
    "data = fetch_california_housing()\n",
    "\n",
    "\n",
    "class DataPreprocessor(BaseEstimator, TransformerMixin):\n",
    "    def __init__(self, lags_features, params=None):\n",
    "        self.params = params \n",
    "        self.data_treat = None\n",
    "        self.target_variable = params[\"target\"]\n",
    "        self.variable_columns = params[\"lags_features\"]\n",
    "\n",
    "\n",
    "    def get_treated_data(self):\n",
    "        return self.data_treat\n",
    "    \n",
    "    def get_train_data(self):\n",
    "        return self.data_train\n",
    "\n",
    "    def get_test_data(self):\n",
    "        return self.data_test\n",
    "    \n",
    "\n",
    "    def fit(self, X, y=None):\n",
    "        \"\"\" Fit the model according to the given training data.\n",
    "        Parameters\n",
    "        ----------\n",
    "            X : array-like of shape (n_samples, n_features)\n",
    "                The training input samples.\n",
    "            y : array-like of shape (n_samples,) or (n_samples, n_outputs), default=None\n",
    "                The target values (class labels in classification, real numbers in\n",
    "            \n",
    "        Returns\n",
    "        -------\n",
    "            self : object\n",
    "                Returns self.\n",
    "                \n",
    "        Example\n",
    "        -------\n",
    "            X_train, X_test, y_train, y_test = train_test_split(X, y, train_size = train_size, random_state=42, shuffle=shuffle)\n",
    "\n",
    "               \"\"\"\n",
    "        # your code here\n",
    "\n",
    "        X_train, X_test, y_train, y_test = train_test_split(X, y, train_size = train_size, random_state=42, shuffle=shuffle)\n",
    "\n",
    "        data_train = pd.concat([X_train, y_train], axis=1)\n",
    "        data_test = pd.concat([X_test, y_test], axis=1)\n",
    "\n",
    "        self.data_treat = X_train\n",
    "        self.data_train = data_train\n",
    "        self.data_test = data_test\n",
    "\n",
    "        return self\n",
    "    \n",
    "\n",
    "\n",
    "    def transform(self, X):\n",
    "        # your code here\n",
    "        X = X.dropna() # example\n",
    "        return X\n",
    "    \n",
    "    def predict(self, x):\n",
    "        return self.transform(x)\n",
    "\n",
    "\n",
    "\n",
    "preprocessor = DataPreprocessor(**params)\n",
    "preprocessor.fit(data)\n",
    "\n",
    "data_view = process_data.get_treated_data()\n",
    "data_train = process_data.get_train_data()\n",
    "data_test = process_data.get_test_data()\n",
    "\n",
    "\n",
    "X_train = data_train[params['variable_columns']]\n",
    "y_train = data_train[params['target_variable']]\n",
    "X_test = data_test[params['variable_columns']]\n",
    "y_test = data_test[params['target_variable']]"
   ]
  },
  {
   "cell_type": "markdown",
   "metadata": {},
   "source": [
    "Setup Modelo"
   ]
  },
  {
   "cell_type": "code",
   "execution_count": null,
   "metadata": {},
   "outputs": [],
   "source": [
    "model = DecisionTreeRegressor()\n",
    "model.fit(X_train, y_train)\n",
    "\n",
    "# Make predictions\n",
    "y_pred = model.predict(X_test)\n",
    "\n",
    "# Calculate metrics\n",
    "r2 = r2_score(y_test, y_pred)"
   ]
  },
  {
   "cell_type": "markdown",
   "metadata": {},
   "source": [
    "Save models"
   ]
  },
  {
   "cell_type": "code",
   "execution_count": null,
   "metadata": {},
   "outputs": [],
   "source": [
    "dataset_name= \"California Housing\"\n",
    "inputs= params['variable_columns']\n",
    "train_size = 0.8\n",
    "shuffle = False\n",
    "\n",
    "\n",
    "run = tracker.save_experiment(dataset_name=dataset_name, inputs=inputs)\n",
    "run_id = run.info.run_id\n",
    "\n",
    "tracker.log_params({\"max_iter\": 1000})\n",
    "tracker.log_model(preprocessor, 'data_model')\n",
    "tracker.log_model(model, \"prediction_model\")"
   ]
  }
 ],
 "metadata": {
  "kernelspec": {
   "display_name": "venv",
   "language": "python",
   "name": "python3"
  },
  "language_info": {
   "name": "python",
   "version": "3.12.2"
  }
 },
 "nbformat": 4,
 "nbformat_minor": 2
}
