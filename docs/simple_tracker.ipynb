{
 "cells": [
  {
   "cell_type": "markdown",
   "metadata": {},
   "source": [
    "### Initialize tracking emulating how SIENTIA™ website environment works"
   ]
  },
  {
   "cell_type": "code",
   "execution_count": 17,
   "metadata": {},
   "outputs": [
    {
     "name": "stdout",
     "output_type": "stream",
     "text": [
      "Experiment teste_logs already exists\n"
     ]
    }
   ],
   "source": [
    "# import sientia_tracker.simple_tracker as simple_tracker\n",
    "from sientia_tracker import simple_tracker\n",
    "\n",
    "\n",
    "# Initialize tracking\n",
    "tracking_uri = \"http://localhost:57398/\"\n",
    "username = \"aignosi\"\n",
    "password = \"aignosi\"\n",
    "project_name = \"teste_logs\"\n",
    "\n",
    "tracker = simple_tracker.SimpleTracker(tracking_uri,username,password)\n",
    "tracker.set_project(project_name)\n",
    "\n"
   ]
  },
  {
   "cell_type": "markdown",
   "metadata": {},
   "source": [
    "### Load the dataset and create a model"
   ]
  },
  {
   "cell_type": "code",
   "execution_count": 18,
   "metadata": {},
   "outputs": [
    {
     "data": {
      "text/plain": [
       "0.9"
      ]
     },
     "execution_count": 18,
     "metadata": {},
     "output_type": "execute_result"
    }
   ],
   "source": [
    "# Importações necessárias do scikit-learn, pandas e outros pacotes\n",
    "from sklearn.linear_model import LogisticRegression\n",
    "from sklearn.datasets import load_iris\n",
    "from sklearn.model_selection import train_test_split\n",
    "from sklearn.metrics import accuracy_score\n",
    "from sklearn.base import BaseEstimator, TransformerMixin\n",
    "import pandas as pd\n",
    "\n",
    "\n",
    "prediction_params = {\n",
    "    \"max_iter\": 1000\n",
    "}\n",
    "\n",
    "\n",
    "# Classe para pré-processamento de dados\n",
    "class DataPreprocessor(BaseEstimator, TransformerMixin):\n",
    "    def __init__(self, params=None):\n",
    "        # Inicializa a classe com parâmetros opcionais\n",
    "        self.params = params\n",
    "        self.model = None\n",
    "        self.metrics = {}\n",
    "\n",
    "    # Método fit, geralmente usado para ajustar parâmetros, mas aqui só aplica a transformação\n",
    "    def fit(self, x, y=None):\n",
    "        self.transform(x)  # Aplica a transformação (remoção de valores nulos)\n",
    "        return self  # Retorna a própria instância\n",
    "\n",
    "    # Método de transformação que remove valores ausentes (NaN) dos dados\n",
    "    def transform(self, x):\n",
    "        x = x.dropna()  # Remove valores nulos\n",
    "        return x  # Retorna os dados transformados\n",
    "\n",
    "    # Método predict que apenas aplica a transformação\n",
    "    def predict(self, x):\n",
    "        return self.transform(x)  # Aplica a transformação aos dados de entrada\n",
    "\n",
    "\n",
    "# Classe para o modelo de predição\n",
    "class PredictionModel(BaseEstimator, TransformerMixin):\n",
    "    def __init__(self, params=None):\n",
    "        # Inicializa com parâmetros opcionais\n",
    "        self.params = params\n",
    "        self.model = None  # Inicialmente, o modelo é None\n",
    "        self.metrics = {}\n",
    "\n",
    "    # Método fit, usado para treinar o modelo\n",
    "    def fit(self, x, y=None):\n",
    "        # Treina um modelo de Regressão Logística\n",
    "        model = LogisticRegression(max_iter=self.params['max_iter'])  # Define o modelo com no máximo 1000 iterações\n",
    "        model.fit(X_train, y_train)  # Ajusta o modelo aos dados de treino\n",
    "        self.model = model  # Armazena o modelo treinado\n",
    "        return self.model  # Retorna o modelo treinado\n",
    "\n",
    "    # Método predict, usado para fazer previsões\n",
    "    def predict(self, x):\n",
    "        # Faz predições com base no modelo treinado\n",
    "        y_pred = self.model.predict(x)  # Aplica o modelo para prever os rótulos de x\n",
    "        return y_pred  # Retorna as predições\n",
    "\n",
    "\n",
    "# Instancia as classes de pré-processamento e modelo\n",
    "transform_model = DataPreprocessor()\n",
    "pred_model = PredictionModel(prediction_params)\n",
    "\n",
    "# Carrega o conjunto de dados 'Iris'\n",
    "data = load_iris()\n",
    "df = pd.DataFrame(data.data, columns=data.feature_names)  # Converte para DataFrame do pandas\n",
    "df['target'] = data.target  # Adiciona a coluna 'target' (rótulos)\n",
    "\n",
    "# Aplica o pré-processamento aos dados\n",
    "transform_model.fit(df)  # Aplica o método fit (mesmo que não faça nada além de transformar)\n",
    "df = transform_model.transform(df)  # Aplica a transformação (remoção de valores nulos)\n",
    "\n",
    "# Separa os dados em variáveis independentes (X) e dependentes (y)\n",
    "X = df.drop(columns=['target'])  # Remove a coluna 'target'\n",
    "y = df['target']  # Define os rótulos como a variável 'target'\n",
    "\n",
    "# Divide os dados em conjuntos de treino e teste\n",
    "X_train, X_test, y_train, y_test = train_test_split(X, y, test_size=0.2)  # 80% treino, 20% teste\n",
    "\n",
    "# Treina o modelo de predição com os dados de treino\n",
    "pred_model.fit(X_train, y_train)\n",
    "\n",
    "\n",
    "\n",
    "acc_score = accuracy_score(pred_model.predict(X_test), y_test)\n",
    "acc_score"
   ]
  },
  {
   "cell_type": "markdown",
   "metadata": {},
   "source": [
    "### Initialize run. The only needed parameters are the experiment name and inputs"
   ]
  },
  {
   "cell_type": "code",
   "execution_count": 19,
   "metadata": {},
   "outputs": [
    {
     "name": "stdout",
     "output_type": "stream",
     "text": [
      "Saving experiment teste_logs\n"
     ]
    }
   ],
   "source": [
    "# Start a run\n",
    "dataset_name= \"Iris\"\n",
    "inputs= \"sepal_length, sepal_width, petal_length, petal_width\"\n",
    "run = tracker.save_experiment(dataset_name=dataset_name, inputs=inputs)\n",
    "run_id = run.info.run_id\n"
   ]
  },
  {
   "cell_type": "markdown",
   "metadata": {},
   "source": [
    "### Log models and metrics"
   ]
  },
  {
   "cell_type": "code",
   "execution_count": 20,
   "metadata": {},
   "outputs": [],
   "source": [
    "pred_model_atributes = vars(pred_model)\n",
    "transform_model_atributes = vars(transform_model)\n",
    "\n",
    "\n",
    "#log parameters and metrics\n",
    "tracker.log_params(pred_model_atributes['params'])\n",
    "tracker.log_metrics({\"accuracy\": acc_score})\n",
    "\n",
    "# Log models\n",
    "tracker.log_model(transform_model, 'data_model')\n",
    "tracker.log_model(pred_model, \"prediction_model\")"
   ]
  },
  {
   "cell_type": "markdown",
   "metadata": {},
   "source": [
    "### Retrieve information of run"
   ]
  },
  {
   "cell_type": "code",
   "execution_count": null,
   "metadata": {},
   "outputs": [],
   "source": [
    "# Retrieve the run using the run ID\n",
    "retrieved_run = tracker.client.get_run(run_id)\n",
    "\n",
    "# Access and print metrics and params \n",
    "metrics = retrieved_run.data.metrics\n",
    "params = retrieved_run.data.params\n",
    "print(\"Metrics:\", metrics)\n",
    "for key, value in params.items():\n",
    "    print( key,':' ,value)\n",
    "\n"
   ]
  }
 ],
 "metadata": {
  "kernelspec": {
   "display_name": "venv",
   "language": "python",
   "name": "python3"
  },
  "language_info": {
   "codemirror_mode": {
    "name": "ipython",
    "version": 3
   },
   "file_extension": ".py",
   "mimetype": "text/x-python",
   "name": "python",
   "nbconvert_exporter": "python",
   "pygments_lexer": "ipython3",
   "version": "3.12.2"
  }
 },
 "nbformat": 4,
 "nbformat_minor": 2
}
