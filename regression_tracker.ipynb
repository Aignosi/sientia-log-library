{
 "cells": [
  {
   "cell_type": "markdown",
   "metadata": {},
   "source": [
    "### Initialize MLflow tracking, emulating how Sientia website environment works"
   ]
  },
  {
   "cell_type": "code",
   "execution_count": null,
   "metadata": {},
   "outputs": [],
   "source": [
    "import sientia_tracker.regression as regression\n",
    "import mlflow\n",
    "import os\n",
    "\n",
    "\n",
    "# Initialize MLflow tracking\n",
    "tracking_uri = \"file:./tmp/mlruns\"\n",
    "username = \"example_user\"\n",
    "password = \"example_password\"\n",
    "project_name = \"example_project_regression\"\n",
    "\n",
    "tracker = regression.RegressionTracker(tracking_uri,username,password)\n",
    "tracker.set_project(project_name)\n",
    "\n"
   ]
  },
  {
   "cell_type": "markdown",
   "metadata": {},
   "source": [
    "### Set parameters needed to save the model. They are: the experiment name, inputs, training size, a flag to indicate if the data was shuffled "
   ]
  },
  {
   "cell_type": "code",
   "execution_count": 17,
   "metadata": {},
   "outputs": [],
   "source": [
    "dataset_name= \"California Housing\"\n",
    "inputs= \"MedInc, HouseAge, AveRooms, AveOccup, Latitude, Longitude\"\n",
    "train_size = 0.8\n",
    "shuffle = False\n"
   ]
  },
  {
   "cell_type": "markdown",
   "metadata": {},
   "source": [
    "### Load the dataset and create a model using default values of the run parameters"
   ]
  },
  {
   "cell_type": "code",
   "execution_count": 18,
   "metadata": {},
   "outputs": [],
   "source": [
    "from sklearn.tree import DecisionTreeRegressor\n",
    "from sklearn.datasets import fetch_california_housing\n",
    "from sklearn.model_selection import train_test_split\n",
    "from sklearn.metrics import r2_score\n",
    "\n",
    "\n",
    "# Load dataset\n",
    "data = fetch_california_housing()\n",
    "X = data.data\n",
    "y = data.target\n",
    "\n",
    "# Split data\n",
    "X_train, X_test, y_train, y_test = train_test_split(X, y, train_size = train_size, random_state=42, shuffle=shuffle)\n",
    "\n",
    "# Initialize and train model\n",
    "model = DecisionTreeRegressor()\n",
    "model.fit(X_train, y_train)\n",
    "\n",
    "# Make predictions\n",
    "y_pred = model.predict(X_test)\n",
    "\n",
    "# Calculate metrics\n",
    "r2 = r2_score(y_test, y_pred)\n"
   ]
  },
  {
   "cell_type": "markdown",
   "metadata": {},
   "source": [
    "### Initialize run"
   ]
  },
  {
   "cell_type": "code",
   "execution_count": 19,
   "metadata": {},
   "outputs": [
    {
     "name": "stdout",
     "output_type": "stream",
     "text": [
      "Saving experiment example_project_regression\n"
     ]
    }
   ],
   "source": [
    "# Start a run\n",
    "mlflow.end_run()\n",
    "\n",
    "run = tracker.save_experiment(model, dataset_name=dataset_name, inputs=inputs, train_size=train_size, r2=r2,shuffle=shuffle)\n",
    "run_id = run.info.run_id\n"
   ]
  },
  {
   "cell_type": "markdown",
   "metadata": {},
   "source": [
    "### Log models and metrics"
   ]
  },
  {
   "cell_type": "code",
   "execution_count": 20,
   "metadata": {},
   "outputs": [],
   "source": [
    "# Log parameters and metrics\n",
    "tracker.log_params({\"max_iter\": 1000})\n",
    "# Log model\n",
    "artifact_path = \"LogisticRegression_for_Iris\"\n",
    "tracker.log_model(model, artifact_path)\n",
    "# End the run\n",
    "mlflow.end_run()"
   ]
  },
  {
   "cell_type": "markdown",
   "metadata": {},
   "source": [
    "### Retrieve information of run"
   ]
  },
  {
   "cell_type": "code",
   "execution_count": 21,
   "metadata": {},
   "outputs": [
    {
     "name": "stdout",
     "output_type": "stream",
     "text": [
      "Metrics: {'r2': 0.44760460965011317}\n",
      "Dataset : California Housing\n",
      "Date Column : date\n",
      "Inputs : MedInc, HouseAge, AveRooms, AveOccup, Latitude, Longitude\n",
      "max_iter : 1000\n",
      "Model : Linear Regression\n",
      "Shuffle : False\n",
      "Target : target\n",
      "Train Size : 0.8\n"
     ]
    }
   ],
   "source": [
    "# Retrieve the run using the run ID\n",
    "retrieved_run = tracker.client.get_run(run_id)\n",
    "\n",
    "# Access and print metrics and params \n",
    "metrics = retrieved_run.data.metrics\n",
    "params = retrieved_run.data.params\n",
    "print(\"Metrics:\", metrics)\n",
    "for key, value in params.items():\n",
    "    print( key,':' ,value)\n",
    "\n",
    "\n",
    "model = tracker.client"
   ]
  },
  {
   "cell_type": "markdown",
   "metadata": {},
   "source": [
    "# Retrieve the model\n"
   ]
  },
  {
   "cell_type": "code",
   "execution_count": 22,
   "metadata": {},
   "outputs": [
    {
     "name": "stdout",
     "output_type": "stream",
     "text": [
      "[0.746 1.168 1.227 ... 0.857 0.857 0.735]\n"
     ]
    }
   ],
   "source": [
    "# Ensure the destiny path exists\n",
    "dst_path=\"./local_model\"\n",
    "os.makedirs(dst_path, exist_ok=True)\n",
    "\n",
    "# Download the model\n",
    "local_path =  tracker.client.download_artifacts(run_id, artifact_path, dst_path=\"./local_model\")\n",
    "model = mlflow.pyfunc.load_model(local_path)\n",
    "\n",
    "# Make predictions\n",
    "print(model.predict(X_test))"
   ]
  }
 ],
 "metadata": {
  "kernelspec": {
   "display_name": "venvn",
   "language": "python",
   "name": "python3"
  },
  "language_info": {
   "codemirror_mode": {
    "name": "ipython",
    "version": 3
   },
   "file_extension": ".py",
   "mimetype": "text/x-python",
   "name": "python",
   "nbconvert_exporter": "python",
   "pygments_lexer": "ipython3",
   "version": "3.12.4"
  }
 },
 "nbformat": 4,
 "nbformat_minor": 2
}
